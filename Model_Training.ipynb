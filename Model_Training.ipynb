{
 "cells": [
  {
   "cell_type": "code",
   "execution_count": 1,
   "id": "458ebc89-72e9-42f8-a750-ae93c332dd7c",
   "metadata": {},
   "outputs": [],
   "source": [
    "import os\n",
    "import numpy as np\n",
    "import torch\n",
    "import torch.nn as nn\n",
    "import torch.optim as optim\n",
    "from torch.utils.data import Dataset, DataLoader\n"
   ]
  },
  {
   "cell_type": "code",
   "execution_count": 2,
   "id": "9f55e02d-0342-4af3-aac7-26325bf7b50f",
   "metadata": {},
   "outputs": [
    {
     "name": "stdout",
     "output_type": "stream",
     "text": [
      "Using device: cpu\n"
     ]
    }
   ],
   "source": [
    "device = torch.device(\"cuda\" if torch.cuda.is_available() else \"cpu\")\n",
    "print(f\"Using device: {device}\")"
   ]
  },
  {
   "cell_type": "code",
   "execution_count": 3,
   "id": "4b1c1ac7-648a-49ef-ab34-905050876796",
   "metadata": {},
   "outputs": [
    {
     "name": "stdout",
     "output_type": "stream",
     "text": [
      "Total Pairs: 450\n"
     ]
    }
   ],
   "source": [
    "class VoiceDataset(Dataset):\n",
    "    def __init__(self, feature_folder):\n",
    "        self.feature_folder = feature_folder\n",
    "        self.data = []\n",
    "        self._prepare_data()\n",
    "\n",
    "    def _prepare_data(self):\n",
    "        # Collect features for each speaker\n",
    "        speaker_dict = {}\n",
    "        for root, _, files in os.walk(self.feature_folder):\n",
    "            for file_name in files:\n",
    "                if file_name.endswith('.npy'):\n",
    "                    speaker = os.path.basename(root)\n",
    "                    if speaker not in speaker_dict:\n",
    "                        speaker_dict[speaker] = []\n",
    "                    speaker_dict[speaker].append(os.path.join(root, file_name))\n",
    "\n",
    "        # Create Positive and Negative Pairs\n",
    "        speakers = list(speaker_dict.keys())\n",
    "        for speaker in speakers:\n",
    "            files = speaker_dict[speaker]\n",
    "\n",
    "            # Positive Pairs (Same Speaker)\n",
    "            for i in range(len(files)):\n",
    "                for j in range(i + 1, len(files)):\n",
    "                    self.data.append((files[i], files[j], 1))\n",
    "\n",
    "            # Negative Pairs (Different Speakers)\n",
    "            other_speakers = [s for s in speakers if s != speaker]\n",
    "            for file in files:\n",
    "                neg_speaker = np.random.choice(other_speakers)\n",
    "                neg_file = np.random.choice(speaker_dict[neg_speaker])\n",
    "                self.data.append((file, neg_file, 0))\n",
    "\n",
    "    def __len__(self):\n",
    "        return len(self.data)\n",
    "\n",
    "    def __getitem__(self, idx):\n",
    "        file1, file2, label = self.data[idx]\n",
    "        emb1 = np.load(file1)\n",
    "        emb2 = np.load(file2)\n",
    "        return torch.tensor(emb1, dtype=torch.float32), torch.tensor(emb2, dtype=torch.float32), torch.tensor(label, dtype=torch.float32)\n",
    "\n",
    "# Path to Features\n",
    "feature_folder = r\"C:\\Users\\LENOVO\\Desktop\\RP\\features\"\n",
    "dataset = VoiceDataset(feature_folder)\n",
    "dataloader = DataLoader(dataset, batch_size=32, shuffle=True)\n",
    "\n",
    "print(f\"Total Pairs: {len(dataset)}\")"
   ]
  },
  {
   "cell_type": "code",
   "execution_count": 4,
   "id": "a4d4543f-c8d1-4b6e-9cb1-1b3bbba0922e",
   "metadata": {},
   "outputs": [],
   "source": [
    "import torch.nn.functional as F\n",
    "\n",
    "class SiameseNetwork(nn.Module):\n",
    "    def __init__(self):\n",
    "        super(SiameseNetwork, self).__init__()\n",
    "        self.fc = nn.Sequential(\n",
    "            nn.Linear(768, 512),\n",
    "            nn.ReLU(),\n",
    "            nn.Dropout(0.3),  # Regularization\n",
    "            nn.Linear(512, 256),\n",
    "            nn.ReLU(),\n",
    "            nn.Dropout(0.3),\n",
    "            nn.Linear(256, 128),\n",
    "            nn.ReLU(),\n",
    "        )\n",
    "        self.out = nn.Linear(128, 1)\n",
    "\n",
    "    def forward(self, input1, input2):\n",
    "        # Extract embeddings\n",
    "        output1 = self.fc(input1)\n",
    "        output2 = self.fc(input2)\n",
    "\n",
    "        # Compute absolute difference\n",
    "        diff = torch.abs(output1 - output2)\n",
    "\n",
    "        # Predict similarity using Sigmoid activation\n",
    "        score = torch.sigmoid(self.out(diff))\n",
    "        return score\n"
   ]
  },
  {
   "cell_type": "code",
   "execution_count": 5,
   "id": "ae31c164-0ac3-4873-ac88-45cc0374a5f1",
   "metadata": {},
   "outputs": [
    {
     "name": "stdout",
     "output_type": "stream",
     "text": [
      "SiameseNetwork(\n",
      "  (fc): Sequential(\n",
      "    (0): Linear(in_features=768, out_features=512, bias=True)\n",
      "    (1): ReLU()\n",
      "    (2): Dropout(p=0.3, inplace=False)\n",
      "    (3): Linear(in_features=512, out_features=256, bias=True)\n",
      "    (4): ReLU()\n",
      "    (5): Dropout(p=0.3, inplace=False)\n",
      "    (6): Linear(in_features=256, out_features=128, bias=True)\n",
      "    (7): ReLU()\n",
      "  )\n",
      "  (out): Linear(in_features=128, out_features=1, bias=True)\n",
      ")\n"
     ]
    }
   ],
   "source": [
    "model = SiameseNetwork()\n",
    "print(model)"
   ]
  },
  {
   "cell_type": "code",
   "execution_count": 6,
   "id": "713cbdfb-4344-4bb3-93a1-37f1a32a3161",
   "metadata": {},
   "outputs": [],
   "source": [
    "device = torch.device(\"cuda\" if torch.cuda.is_available() else \"cpu\")\n",
    "model.to(device)\n",
    "\n",
    "criterion = nn.BCELoss()\n",
    "optimizer = optim.Adam(model.parameters(), lr=0.0005)"
   ]
  },
  {
   "cell_type": "code",
   "execution_count": 7,
   "id": "c670e26c-f7c1-48f7-a57e-03a3773dfe02",
   "metadata": {},
   "outputs": [
    {
     "name": "stdout",
     "output_type": "stream",
     "text": [
      "Epoch 1/20, Loss: 0.67899569272995\n",
      "Epoch 2/20, Loss: 0.6565511107444764\n",
      "Epoch 3/20, Loss: 0.6459973017374675\n",
      "Epoch 4/20, Loss: 0.644105064868927\n",
      "Epoch 5/20, Loss: 0.6505756775538126\n",
      "Epoch 6/20, Loss: 0.6286508917808533\n",
      "Epoch 7/20, Loss: 0.6271797935167949\n",
      "Epoch 8/20, Loss: 0.6266704638799031\n",
      "Epoch 9/20, Loss: 0.6412771344184875\n",
      "Epoch 10/20, Loss: 0.6380369385083516\n",
      "Epoch 11/20, Loss: 0.6257404406865438\n",
      "Epoch 12/20, Loss: 0.6200477162996928\n",
      "Epoch 13/20, Loss: 0.6264653186003367\n",
      "Epoch 14/20, Loss: 0.6506966312726339\n",
      "Epoch 15/20, Loss: 0.6257165312767029\n",
      "Epoch 16/20, Loss: 0.6246276080608368\n",
      "Epoch 17/20, Loss: 0.6511308670043945\n",
      "Epoch 18/20, Loss: 0.6450962543487548\n",
      "Epoch 19/20, Loss: 0.6293618897596995\n",
      "Epoch 20/20, Loss: 0.6383627017339071\n"
     ]
    }
   ],
   "source": [
    "# Training Loop\n",
    "def train_model(model, dataloader, epochs=20):\n",
    "    model.train()\n",
    "    for epoch in range(epochs):\n",
    "        total_loss = 0.0\n",
    "        for emb1, emb2, labels in dataloader:\n",
    "            emb1, emb2, labels = emb1.to(device), emb2.to(device), labels.to(device)\n",
    "            optimizer.zero_grad()\n",
    "\n",
    "            outputs = model(emb1, emb2).squeeze()\n",
    "            loss = criterion(outputs, labels)\n",
    "            loss.backward()\n",
    "            optimizer.step()\n",
    "\n",
    "            total_loss += loss.item()\n",
    "\n",
    "        print(f\"Epoch {epoch+1}/{epochs}, Loss: {total_loss / len(dataloader)}\")\n",
    "\n",
    "# Train the Model\n",
    "train_model(model, dataloader)"
   ]
  },
  {
   "cell_type": "code",
   "execution_count": 8,
   "id": "e0358ff5-9b80-432f-9b0c-82e011aaafb9",
   "metadata": {},
   "outputs": [
    {
     "name": "stdout",
     "output_type": "stream",
     "text": [
      "Model saved successfully!\n"
     ]
    }
   ],
   "source": [
    "torch.save(model.state_dict(), \"voice_matching_model.pth\")\n",
    "print(\"Model saved successfully!\")"
   ]
  },
  {
   "cell_type": "code",
   "execution_count": 10,
   "id": "01a97058-7e3c-4c64-929b-0a45032cef62",
   "metadata": {},
   "outputs": [
    {
     "name": "stdout",
     "output_type": "stream",
     "text": [
      "Batch length: 3\n"
     ]
    }
   ],
   "source": [
    "# Get a single batch from dataloader\n",
    "sample_batch = next(iter(dataloader))\n",
    "print(f\"Batch length: {len(sample_batch)}\")  # Should print 3 (emb1, emb2, labels)"
   ]
  },
  {
   "cell_type": "code",
   "execution_count": 20,
   "id": "deff495f-146f-4100-a9d9-d4d6a77b0d80",
   "metadata": {},
   "outputs": [
    {
     "name": "stdout",
     "output_type": "stream",
     "text": [
      "Best Threshold: 0.5071067214012146\n",
      "Accuracy: 0.6711\n",
      "Precision: 0.6696\n",
      "Recall: 1.0000\n",
      "AUC Score: 0.4982\n"
     ]
    }
   ],
   "source": [
    "from sklearn.metrics import accuracy_score, precision_score, recall_score, roc_auc_score\n",
    "\n",
    "def evaluate_model(model, dataloader):\n",
    "    model.eval()\n",
    "    true_labels = []\n",
    "    pred_scores = []\n",
    "\n",
    "    with torch.no_grad():\n",
    "        for emb1, emb2, labels in dataloader:\n",
    "            emb1, emb2, labels = emb1.to(device), emb2.to(device), labels.to(device)  \n",
    "\n",
    "            outputs = model(emb1, emb2).squeeze()\n",
    "\n",
    "            true_labels.extend(labels.cpu().numpy())\n",
    "            pred_scores.extend(outputs.cpu().numpy())\n",
    "\n",
    "    # Compute precision-recall curve\n",
    "    precisions, recalls, thresholds = precision_recall_curve(true_labels, pred_scores)\n",
    "\n",
    "    # Find best threshold where precision & recall are balanced\n",
    "    best_threshold = thresholds[(precisions + recalls).argmax() // 2]\n",
    "    print(f\"Best Threshold: {best_threshold}\")\n",
    "\n",
    "    predictions = [1 if score > best_threshold else 0 for score in pred_scores]\n",
    "\n",
    "    # Calculate Metrics\n",
    "    accuracy = accuracy_score(true_labels, predictions)\n",
    "    precision = precision_score(true_labels, predictions)\n",
    "    recall = recall_score(true_labels, predictions)\n",
    "    auc = roc_auc_score(true_labels, pred_scores)\n",
    "\n",
    "    print(f\"Accuracy: {accuracy:.4f}\")\n",
    "    print(f\"Precision: {precision:.4f}\")\n",
    "    print(f\"Recall: {recall:.4f}\")\n",
    "    print(f\"AUC Score: {auc:.4f}\")\n",
    "\n",
    "# Run evaluation on the test dataset\n",
    "evaluate_model(model, dataloader)"
   ]
  },
  {
   "cell_type": "code",
   "execution_count": 24,
   "id": "3bfc4072-080e-4009-b435-0e9c6303edd5",
   "metadata": {},
   "outputs": [
    {
     "name": "stdout",
     "output_type": "stream",
     "text": [
      "Similarity Score: 0.5762\n"
     ]
    },
    {
     "data": {
      "text/plain": [
       "0.5762473344802856"
      ]
     },
     "execution_count": 24,
     "metadata": {},
     "output_type": "execute_result"
    }
   ],
   "source": [
    "import numpy as np\n",
    "\n",
    "def predict_similarity(model, audio1_path, audio2_path):\n",
    "    model.eval()\n",
    "    \n",
    "    # Load audio embeddings\n",
    "    emb1 = np.load(audio1_path)\n",
    "    emb2 = np.load(audio2_path)\n",
    "\n",
    "    # Convert to tensors\n",
    "    emb1 = torch.tensor(emb1, dtype=torch.float32).unsqueeze(0).to(device)\n",
    "    emb2 = torch.tensor(emb2, dtype=torch.float32).unsqueeze(0).to(device)\n",
    "\n",
    "    # Get similarity score\n",
    "    with torch.no_grad():\n",
    "        similarity = model(emb1, emb2).item()\n",
    "\n",
    "    print(f\"Similarity Score: {similarity:.4f}\")\n",
    "    return similarity\n",
    "\n",
    "# Example Usage\n",
    "predict_similarity(model, r\"C:\\Users\\LENOVO\\Desktop\\RP\\features\\English\\A01_M\\en_A01_M_01.npy\", r\"C:\\Users\\LENOVO\\Desktop\\RP\\features\\English\\A09_F\\en_A09_F_02.npy\")"
   ]
  },
  {
   "cell_type": "code",
   "execution_count": null,
   "id": "f9297371-4e04-4641-8019-080b0ae899c6",
   "metadata": {},
   "outputs": [],
   "source": []
  }
 ],
 "metadata": {
  "kernelspec": {
   "display_name": "Python 3 (ipykernel)",
   "language": "python",
   "name": "python3"
  },
  "language_info": {
   "codemirror_mode": {
    "name": "ipython",
    "version": 3
   },
   "file_extension": ".py",
   "mimetype": "text/x-python",
   "name": "python",
   "nbconvert_exporter": "python",
   "pygments_lexer": "ipython3",
   "version": "3.13.2"
  }
 },
 "nbformat": 4,
 "nbformat_minor": 5
}
